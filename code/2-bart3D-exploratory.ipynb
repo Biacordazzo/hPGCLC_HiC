{
 "cells": [
  {
   "cell_type": "code",
   "execution_count": 1,
   "id": "809310ee",
   "metadata": {},
   "outputs": [],
   "source": [
    "#load packages\n",
    "import pandas as pd\n",
    "import numpy as np\n",
    "import os\n",
    "import matplotlib.pyplot as plt\n",
    "import seaborn as sns\n",
    "import pickle\n",
    "from functions import get_closest_TADs"
   ]
  },
  {
   "cell_type": "code",
   "execution_count": 2,
   "id": "4b827f9f",
   "metadata": {},
   "outputs": [
    {
     "data": {
      "text/plain": [
       "['PGCLC_24k_vs_Naive_25k', 'PGCLC_12k_vs_Naive_10k', 'PGCLC_25k_vs_Naive_500k']"
      ]
     },
     "execution_count": 2,
     "metadata": {},
     "output_type": "execute_result"
    }
   ],
   "source": [
    "file_path = \"../data/bart3d_rep/\"\n",
    "\n",
    "#create lst of chr IDs\n",
    "chromosomes = ['chr'+str(i) for i in range(1,23)] + ['chrX','chrY']\n",
    "#load data\n",
    "bart3d_out_dirs = os.listdir(file_path)\n",
    "bart3d_out_dirs = [directory for directory in bart3d_out_dirs if 'vs' in directory]\n",
    "bart3d_out_dirs"
   ]
  },
  {
   "cell_type": "code",
   "execution_count": 3,
   "id": "2063ed45",
   "metadata": {},
   "outputs": [
    {
     "name": "stdout",
     "output_type": "stream",
     "text": [
      "Current pair: PGCLC_24k_vs_Naive_25k\n",
      "Current pair: PGCLC_12k_vs_Naive_10k\n",
      "Current pair: PGCLC_25k_vs_Naive_500k\n"
     ]
    }
   ],
   "source": [
    "#define dict to hold all dfs\n",
    "bart3d_out_dict = {}\n",
    "#define filtering params\n",
    "hic_depth = 40000\n",
    "out_suffix = 'differential_score.bed'\n",
    "\n",
    "for pairs in bart3d_out_dirs:\n",
    "    \n",
    "    print('Current pair: {}'.format(pairs))\n",
    "    samples = pairs.split('_vs_') ##get sample IDs, ex: PGCLC_24k and Naive_25k\n",
    "    filename = '{}_{}_OVER_{}_{}_{}'.format(samples[0],hic_depth,samples[1],hic_depth,out_suffix)\n",
    "    #read-in dataframe with results\n",
    "    result_df = pd.read_table('{}{}/{}'.format(file_path,pairs,filename), header=None)\n",
    "    result_df.columns = [\"Chr\",\"Start\",\"End\",\"DCI_Score\"]\n",
    "    \n",
    "    #add df to dict\n",
    "    bart3d_out_dict[pairs] = result_df"
   ]
  },
  {
   "cell_type": "code",
   "execution_count": 4,
   "id": "f869c858",
   "metadata": {},
   "outputs": [],
   "source": [
    "#save bart3d_out_dict as pickle\n",
    "with open('../output/bart3d_DCIs.pickle', 'wb') as handle:\n",
    "    pickle.dump(bart3d_out_dict, handle, protocol=pickle.HIGHEST_PROTOCOL)"
   ]
  },
  {
   "cell_type": "markdown",
   "id": "89ee9d69",
   "metadata": {},
   "source": [
    "### Close DCI calculation"
   ]
  },
  {
   "cell_type": "code",
   "execution_count": 5,
   "id": "775ea75e",
   "metadata": {},
   "outputs": [],
   "source": [
    "#find closest TADs between the following dataframes\n",
    "df1 = bart3d_out_dict[bart3d_out_dirs[0]].copy()\n",
    "df2 = bart3d_out_dict[bart3d_out_dirs[1]].copy()\n",
    "df3 = bart3d_out_dict[bart3d_out_dirs[2]].copy()"
   ]
  },
  {
   "cell_type": "code",
   "execution_count": 6,
   "id": "006902a4",
   "metadata": {},
   "outputs": [
    {
     "name": "stdout",
     "output_type": "stream",
     "text": [
      "Current threshold: 1\n",
      "CLOSE TADs: 14149\n",
      "Current threshold: 2\n",
      "CLOSE TADs: 8934\n",
      "Current threshold: 3\n",
      "CLOSE TADs: 5657\n",
      "Current threshold: 4\n",
      "CLOSE TADs: 3415\n",
      "Current threshold: 5\n",
      "CLOSE TADs: 1909\n",
      "Current threshold: 6\n",
      "CLOSE TADs: 1054\n",
      "Current threshold: 7\n",
      "CLOSE TADs: 533\n",
      "Current threshold: 8\n",
      "CLOSE TADs: 268\n",
      "Current threshold: 9\n",
      "Not enough TADs found for chromosome chrY\n",
      "Not enough TADs found for chromosome chrY\n",
      "CLOSE TADs: 144\n",
      "Current threshold: 10\n",
      "Not enough TADs found for chromosome chr15\n",
      "Not enough TADs found for chromosome chrY\n",
      "Not enough TADs found for chromosome chr15\n",
      "Not enough TADs found for chromosome chr21\n",
      "Not enough TADs found for chromosome chrX\n",
      "Not enough TADs found for chromosome chrY\n",
      "CLOSE TADs: 73\n"
     ]
    }
   ],
   "source": [
    "#get number of close TADs for different thresholds\n",
    "df_closeTADs_th = pd.DataFrame(columns=['Threshold', 'CloseTADs'])\n",
    "\n",
    "for threshold in range(1,11):\n",
    "\n",
    "    print('Current threshold: {}'.format(threshold))\n",
    "    df_all_query_th = get_closest_TADs(df1, df2, chromosomes, threshold=threshold)\n",
    "    df_final_query_th = get_closest_TADs(df_all_query_th, df3, chromosomes, threshold=threshold)\n",
    "    print('CLOSE TADs: {}'.format(df_final_query_th.shape[0]))\n",
    "\n",
    "    #count number of close TADs per chromosome\n",
    "    df_closeTADs_i = pd.DataFrame(columns=['Threshold', 'Chr', 'CloseTADs'])\n",
    "    for chrom in chromosomes:\n",
    "        df_final_query_th_chrom = df_final_query_th[df_final_query_th.Chr==chrom]\n",
    "        df_to_concat = pd.DataFrame(np.array([[threshold, chrom, df_final_query_th_chrom.shape[0]]]),\n",
    "                                             columns=['Threshold', 'Chr', 'CloseTADs'])\n",
    "        df_closeTADs_i = pd.concat([df_closeTADs_i, df_to_concat])\n",
    "    \n",
    "    df_closeTADs_th = pd.concat([df_closeTADs_th, df_closeTADs_i])\n",
    "\n",
    "#format column types\n",
    "df_closeTADs_th['Threshold'] = df_closeTADs_th['Threshold'].astype(\"int\")\n",
    "df_closeTADs_th['Chr'] = df_closeTADs_th['Chr'].astype(\"str\")\n",
    "df_closeTADs_th['CloseTADs'] = df_closeTADs_th['CloseTADs'].astype(\"int\")"
   ]
  },
  {
   "cell_type": "code",
   "execution_count": 7,
   "id": "34954f20",
   "metadata": {},
   "outputs": [
    {
     "data": {
      "image/png": "[encoded data removed]",
      "text/plain": [
       "<Figure size 432x288 with 1 Axes>"
      ]
     },
     "metadata": {
      "needs_background": "light"
     },
     "output_type": "display_data"
    }
   ],
   "source": [
    "#plot distribution of close TADs\n",
    "ax = sns.barplot(data=df_closeTADs_th, x='Threshold', y='CloseTADs',\n",
    "                 palette='Blues_r', estimator=sum, ci=None)\n",
    "plt.title('Number of conserved DCIs with increased interactions in PGCLCs')\n",
    "plt.xlabel('DCI threshold')\n",
    "plt.ylabel('Conserved DCIs')\n",
    "plt.show()"
   ]
  },
  {
   "cell_type": "code",
   "execution_count": 8,
   "id": "0d17fa57",
   "metadata": {},
   "outputs": [
    {
     "name": "stdout",
     "output_type": "stream",
     "text": [
      "Current threshold: -1\n",
      "CLOSE TADs: 14315\n",
      "Current threshold: -2\n",
      "CLOSE TADs: 7363\n",
      "Current threshold: -3\n",
      "CLOSE TADs: 3736\n",
      "Current threshold: -4\n",
      "CLOSE TADs: 1846\n",
      "Current threshold: -5\n",
      "CLOSE TADs: 858\n",
      "Current threshold: -6\n",
      "CLOSE TADs: 407\n",
      "Current threshold: -7\n",
      "CLOSE TADs: 185\n",
      "Current threshold: -8\n",
      "Not enough TADs found for chromosome chr20\n",
      "Not enough TADs found for chromosome chr22\n",
      "Not enough TADs found for chromosome chr20\n",
      "Not enough TADs found for chromosome chr22\n",
      "CLOSE TADs: 73\n",
      "Current threshold: -9\n",
      "Not enough TADs found for chromosome chr4\n",
      "Not enough TADs found for chromosome chr13\n",
      "Not enough TADs found for chromosome chr18\n",
      "Not enough TADs found for chromosome chr19\n",
      "Not enough TADs found for chromosome chr20\n",
      "Not enough TADs found for chromosome chr22\n",
      "Not enough TADs found for chromosome chrY\n",
      "Not enough TADs found for chromosome chr4\n",
      "Not enough TADs found for chromosome chr11\n",
      "Not enough TADs found for chromosome chr13\n",
      "Not enough TADs found for chromosome chr15\n",
      "Not enough TADs found for chromosome chr18\n",
      "Not enough TADs found for chromosome chr19\n",
      "Not enough TADs found for chromosome chr20\n",
      "Not enough TADs found for chromosome chr22\n",
      "Not enough TADs found for chromosome chrY\n",
      "CLOSE TADs: 26\n",
      "Current threshold: -10\n",
      "Not enough TADs found for chromosome chr4\n",
      "Not enough TADs found for chromosome chr6\n",
      "Not enough TADs found for chromosome chr10\n",
      "Not enough TADs found for chromosome chr13\n",
      "Not enough TADs found for chromosome chr14\n",
      "Not enough TADs found for chromosome chr15\n",
      "Not enough TADs found for chromosome chr18\n",
      "Not enough TADs found for chromosome chr19\n",
      "Not enough TADs found for chromosome chr20\n",
      "Not enough TADs found for chromosome chr21\n",
      "Not enough TADs found for chromosome chr22\n",
      "Not enough TADs found for chromosome chrY\n",
      "Not enough TADs found for chromosome chr3\n",
      "Not enough TADs found for chromosome chr4\n",
      "Not enough TADs found for chromosome chr6\n",
      "Not enough TADs found for chromosome chr8\n",
      "Not enough TADs found for chromosome chr10\n",
      "Not enough TADs found for chromosome chr11\n",
      "Not enough TADs found for chromosome chr13\n",
      "Not enough TADs found for chromosome chr14\n",
      "Not enough TADs found for chromosome chr15\n",
      "Not enough TADs found for chromosome chr17\n",
      "Not enough TADs found for chromosome chr18\n",
      "Not enough TADs found for chromosome chr19\n",
      "Not enough TADs found for chromosome chr20\n",
      "Not enough TADs found for chromosome chr21\n",
      "Not enough TADs found for chromosome chr22\n",
      "Not enough TADs found for chromosome chrY\n",
      "CLOSE TADs: 10\n"
     ]
    }
   ],
   "source": [
    "#repeat for negative thresholds\n",
    "df_closeTADs_th_neg = pd.DataFrame(columns=['Threshold', 'Chr', 'CloseTADs'])\n",
    "\n",
    "for threshold in range(-1,-11,-1):\n",
    "\n",
    "    print('Current threshold: {}'.format(threshold))\n",
    "    df_all_query_th = get_closest_TADs(df1, df2, chromosomes, threshold=threshold)\n",
    "    df_final_query_th = get_closest_TADs(df_all_query_th, df3, chromosomes, threshold=threshold)\n",
    "    print('CLOSE TADs: {}'.format(df_final_query_th.shape[0]))\n",
    "\n",
    "    #count number of close TADs per chromosome\n",
    "    df_closeTADs_i = pd.DataFrame(columns=['Threshold', 'Chr', 'CloseTADs'])\n",
    "    for chrom in chromosomes:\n",
    "        df_final_query_th_chrom = df_final_query_th[df_final_query_th.Chr==chrom]\n",
    "        df_to_concat = pd.DataFrame(np.array([[threshold, chrom, df_final_query_th_chrom.shape[0]]]),\n",
    "                                             columns=['Threshold', 'Chr', 'CloseTADs'])\n",
    "        df_closeTADs_i = pd.concat([df_closeTADs_i, df_to_concat])\n",
    "    \n",
    "    df_closeTADs_th_neg = pd.concat([df_closeTADs_th_neg, df_closeTADs_i])\n",
    "\n",
    "#format column types\n",
    "df_closeTADs_th_neg['Threshold'] = df_closeTADs_th_neg['Threshold'].astype(\"int\")\n",
    "df_closeTADs_th_neg['Chr'] = df_closeTADs_th_neg['Chr'].astype(\"str\")\n",
    "df_closeTADs_th_neg['CloseTADs'] = df_closeTADs_th_neg['CloseTADs'].astype(\"int\")"
   ]
  },
  {
   "cell_type": "code",
   "execution_count": 9,
   "id": "cec196eb",
   "metadata": {},
   "outputs": [
    {
     "data": {
      "image/png": "[encoded data removed]",
      "text/plain": [
       "<Figure size 432x288 with 1 Axes>"
      ]
     },
     "metadata": {
      "needs_background": "light"
     },
     "output_type": "display_data"
    }
   ],
   "source": [
    "#plot distribution of close TADs\n",
    "ax = sns.barplot(data=df_closeTADs_th_neg, x='Threshold', y='CloseTADs',\n",
    "                 palette='Reds_r', order=range(-1,-11,-1), \n",
    "                 estimator=sum, ci=None)\n",
    "plt.title('Number of conserved DCIs with decreased interactions in PGCLCs')\n",
    "plt.xlabel('DCI threshold')\n",
    "plt.ylabel('Conserved DCIs')\n",
    "plt.show()"
   ]
  }
 ],
 "metadata": {
  "kernelspec": {
   "display_name": "bart3d",
   "language": "python",
   "name": "python3"
  },
  "language_info": {
   "codemirror_mode": {
    "name": "ipython",
    "version": 3
   },
   "file_extension": ".py",
   "mimetype": "text/x-python",
   "name": "python",
   "nbconvert_exporter": "python",
   "pygments_lexer": "ipython3",
   "version": "3.6.10"
  }
 },
 "nbformat": 4,
 "nbformat_minor": 5
}
